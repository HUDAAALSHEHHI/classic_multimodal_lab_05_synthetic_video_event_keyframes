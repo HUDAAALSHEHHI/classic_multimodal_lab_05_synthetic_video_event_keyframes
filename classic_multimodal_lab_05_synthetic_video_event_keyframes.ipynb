{
  "nbformat": 4,
  "nbformat_minor": 0,
  "metadata": {
    "colab": {
      "provenance": [],
      "gpuType": "L4"
    },
    "kernelspec": {
      "name": "python3",
      "display_name": "Python 3"
    },
    "language_info": {
      "name": "python"
    },
    "accelerator": "GPU"
  },
  "cells": [
    {
      "cell_type": "code",
      "execution_count": 3,
      "metadata": {
        "colab": {
          "base_uri": "https://localhost:8080/"
        },
        "id": "8T-8k5uq2ex_",
        "outputId": "b53da176-3f84-4676-8b2d-d4443a2d697e"
      },
      "outputs": [
        {
          "output_type": "execute_result",
          "data": {
            "text/plain": [
              "120"
            ]
          },
          "metadata": {},
          "execution_count": 3
        }
      ],
      "source": [
        "import numpy as np\n",
        "import cv2\n",
        "\n",
        "# Generate synthetic video: moving shapes on a dark canvas\n",
        "H, W, T = 240, 320, 120  # height, width, frames\n",
        "frames = []\n",
        "\n",
        "np.random.seed(42)\n",
        "x, y = 40, 60\n",
        "vx, vy = 3, 2\n",
        "radius = 18\n",
        "\n",
        "for t in range(T):\n",
        "    frame = np.zeros((H, W, 3), dtype=np.uint8)\n",
        "\n",
        "    # moving circle\n",
        "    cv2.circle(frame, (int(x), int(y)), radius, (0, 255, 0), -1)\n",
        "\n",
        "    # moving rectangle\n",
        "    rx = int(30 + 60 * np.sin(t / 10.0))\n",
        "    ry = int(120 + 40 * np.cos(t / 11.0))\n",
        "    cv2.rectangle(frame, (rx, ry), (rx + 50, ry + 30), (255, 180, 0), -1)\n",
        "\n",
        "    # update circle position with bouncing\n",
        "    x += vx; y += vy\n",
        "    if x - radius < 0 or x + radius >= W: vx *= -1\n",
        "    if y - radius < 0 or y + radius >= H: vy *= -1\n",
        "\n",
        "    frames.append(frame)\n",
        "len(frames)\n"
      ]
    },
    {
      "cell_type": "code",
      "source": [
        "import numpy as np\n",
        "import cv2\n",
        "\n",
        "# Motion energy via frame differencing + smoothing\n",
        "gray = [cv2.cvtColor(f, cv2.COLOR_BGR2GRAY) for f in frames]\n",
        "diff = [0.0]  # first frame has no diff\n",
        "for i in range(1, len(gray)):\n",
        "    d = cv2.absdiff(gray[i], gray[i-1])\n",
        "    diff.append(float(d.mean()))\n",
        "\n",
        "# smooth\n",
        "k = 5\n",
        "kernel = np.ones(k) / k\n",
        "sm = np.convolve(diff, kernel, mode=\"same\")\n",
        "\n",
        "# adaptive threshold (median + factor * MAD)\n",
        "med = np.median(sm)\n",
        "mad = np.median(np.abs(sm - med)) + 1e-6\n",
        "th = med + 4.0 * mad\n",
        "\n",
        "# pick keyframes where motion crosses threshold, with non-max suppression\n",
        "key_idxs = []\n",
        "cooldown = 6\n",
        "last = -cooldown\n",
        "for i in range(len(sm)):\n",
        "    if sm[i] > th and (i - last) >= cooldown:\n",
        "        # local maximum in a window\n",
        "        w = sm[max(0, i-3):min(len(sm), i+4)]\n",
        "        peak = np.argmax(w) + max(0, i-3)\n",
        "        key_idxs.append(int(peak))\n",
        "        last = int(peak)\n",
        "\n",
        "print(\"Selected keyframes:\", key_idxs[:10], \"... total =\", len(key_idxs))\n"
      ],
      "metadata": {
        "colab": {
          "base_uri": "https://localhost:8080/"
        },
        "id": "IST_fd-J28xi",
        "outputId": "24c64b41-eff8-4cbd-ccca-f3cf58ac60ce"
      },
      "execution_count": 4,
      "outputs": [
        {
          "output_type": "stream",
          "name": "stdout",
          "text": [
            "Selected keyframes: [] ... total = 0\n"
          ]
        }
      ]
    },
    {
      "cell_type": "code",
      "source": [
        "import os, cv2\n",
        "from IPython.display import Image, display\n",
        "\n",
        "os.makedirs(\"keyframes\", exist_ok=True)\n",
        "\n",
        "indices = key_idxs if len(key_idxs) > 0 else [0, len(frames)//2, len(frames)-1]\n",
        "indices = [i for i in indices if 0 <= i < len(frames)]\n",
        "indices = sorted(dict.fromkeys(indices))[:6]\n",
        "\n",
        "saved = 0\n",
        "for j, idx in enumerate(indices):\n",
        "    path = os.path.join(\"keyframes\", f\"key_{j:02d}_f{idx:04d}.jpg\")\n",
        "    cv2.imwrite(path, frames[idx])\n",
        "    display(Image(filename=path))\n",
        "    saved += 1\n",
        "\n",
        "print(f\"Saved {saved} keyframes in ./keyframes\")\n"
      ],
      "metadata": {
        "colab": {
          "base_uri": "https://localhost:8080/",
          "height": 755
        },
        "id": "1vky3-fR4uo-",
        "outputId": "abefefbe-b787-4146-9d11-c6692e2efde5"
      },
      "execution_count": 6,
      "outputs": [
        {
          "output_type": "display_data",
          "data": {
            "image/jpeg": "[encoded data removed]",
            "text/plain": [
              "<IPython.core.display.Image object>"
            ]
          },
          "metadata": {}
        },
        {
          "output_type": "display_data",
          "data": {
            "image/jpeg": "[encoded data removed]",
            "text/plain": [
              "<IPython.core.display.Image object>"
            ]
          },
          "metadata": {}
        },
        {
          "output_type": "display_data",
          "data": {
            "image/jpeg": "[encoded data removed]",
            "text/plain": [
              "<IPython.core.display.Image object>"
            ]
          },
          "metadata": {}
        },
        {
          "output_type": "stream",
          "name": "stdout",
          "text": [
            "Saved 3 keyframes in ./keyframes\n"
          ]
        }
      ]
    },
    {
      "cell_type": "code",
      "source": [],
      "metadata": {
        "id": "WA3s0xq55i71"
      },
      "execution_count": null,
      "outputs": []
    }
  ]
}